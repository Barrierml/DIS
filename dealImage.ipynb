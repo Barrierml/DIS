{
 "cells": [
  {
   "attachments": {},
   "cell_type": "markdown",
   "metadata": {},
   "source": [
    "# 处理美图相关的原图与遮罩图"
   ]
  },
  {
   "cell_type": "code",
   "execution_count": 1,
   "metadata": {},
   "outputs": [],
   "source": [
    "# 导入 PIL 库\n",
    "from PIL import Image\n",
    "import numpy as np\n",
    "import os\n",
    "from tqdm import tqdm\n",
    "\n",
    "\n",
    "def transform_mask(img: Image.Image):\n",
    "    # 获取图片的宽度和高度\n",
    "    width, height = img.size\n",
    "    # 创建一个新的图片对象，模式为 单色\n",
    "    new_img = Image.new('L', (width, height))\n",
    "    # 遍历图片的每个像素\n",
    "    for x in range(width):\n",
    "        for y in range(height):\n",
    "            # 获取当前像素的 RGBA 值\n",
    "            r, g, b, a = img.getpixel((x, y))\n",
    "            if a > 128:\n",
    "                new_img.putpixel((x, y), 255)\n",
    "            # 如果像素透明，将新图片的对应像素设为黑色\n",
    "            else:\n",
    "                new_img.putpixel((x, y), 0)\n",
    "    # 返回新图片\n",
    "    return new_img\n",
    "\n",
    "# 定义一个函数，接受两个关键词和一个文件夹路径作为参数\n",
    "def process_images(keyword_a, keyword_b, folder_path):\n",
    " # 创建 orgin 和 gt 文件夹\n",
    "    orgin_path = os.path.join(folder_path, \"orgin\")\n",
    "    gt_path = os.path.join(folder_path, \"gt\")\n",
    "    os.makedirs(orgin_path, exist_ok=True)\n",
    "    os.makedirs(gt_path, exist_ok=True)\n",
    "    ll = os.listdir(folder_path)\n",
    "\n",
    "    # 遍历文件夹中的所有文件\n",
    "    for file in tqdm(ll, total=len(ll), desc=\"process_images\"):\n",
    "    # 获取文件的完整路径\n",
    "        file_path = os.path.join(folder_path, file)\n",
    "        # 如果文件是图片文件\n",
    "        if file.endswith(\".png\") or file.endswith(\".jpg\") or file.endswith(\".jpeg\"):\n",
    "        # 如果文件名包含关键词 A，将其复制到 orgin 文件夹中\n",
    "            if keyword_a in file:\n",
    "                orgin_file = os.path.join(orgin_path, file)\n",
    "                # 将原图转为RGB模式保存，为 jpg 格式\n",
    "                Image.open(file_path).convert(\"RGB\").save(orgin_file.replace(\"png\", \"jpg\"))\n",
    "        # 如果文件名包含关键词 B，将其处理后保存到 gt 文件夹中\n",
    "            elif keyword_b in file:\n",
    "                # gt 文件要和 orgin 文件保持一致的文件名\n",
    "                gt_file = os.path.join(gt_path, file.replace(keyword_b, keyword_a))\n",
    "                # 打开图片文件\n",
    "                img = Image.open(file_path)\n",
    "                new_img = transform_mask(img)\n",
    "                new_img.save(gt_file)\n",
    "\n",
    "# 将图片从遮罩中抠离出来\n",
    "def get_crop_image_from_mask(image_name, mask_name, output_name):\n",
    "    image = Image.open(image_name)\n",
    "    mask = Image.open(mask_name)\n",
    "    image_array = np.array(image)\n",
    "    # 将遮罩中的白色部分转为黑白透明\n",
    "    new_mask_array = transform_mask(mask)\n",
    "    new_mask_array.show()\n",
    "    new_mask_array = np.array(new_mask_array)\n",
    "    # 遍历蒙版，如果是黑色，将其设为透明，如果是白色，则继承蒙版的透明度\n",
    "    for x in range(new_mask_array.shape[0]):\n",
    "        for y in range(new_mask_array.shape[1]):\n",
    "            if new_mask_array[x, y, 0] == 0:\n",
    "                image_array[x, y, 3] = 0\n",
    "            else:\n",
    "                image_array[x, y, 3] = new_mask_array[x, y, 3]\n",
    "    # 将蒙版转为图片对象\n",
    "    image = Image.fromarray(image_array)\n",
    "    image.save(output_name, \"png\")\n",
    "\n",
    "\n",
    "# get_crop_image_from_mask(\"/Users/hashiro/Downloads/data/treasures/meitu2/meitu88569535.png\",\n",
    "#                          \"/Users/hashiro/Downloads/data/treasures/meitu2/orgin88569535.png\",\n",
    "#                         \"/Users/hashiro/Downloads/data/treasures/meitu2/output33.png\")"
   ]
  },
  {
   "cell_type": "code",
   "execution_count": 2,
   "metadata": {},
   "outputs": [
    {
     "name": "stderr",
     "output_type": "stream",
     "text": [
      "process_images:   1%|          | 1/193 [00:01<05:33,  1.74s/it]\n"
     ]
    },
    {
     "ename": "KeyboardInterrupt",
     "evalue": "",
     "output_type": "error",
     "traceback": [
      "\u001b[0;31m---------------------------------------------------------------------------\u001b[0m",
      "\u001b[0;31mKeyboardInterrupt\u001b[0m                         Traceback (most recent call last)",
      "\u001b[1;32m/Users/hashiro/develop/SAM/DIS/dealImage.ipynb Cell 3\u001b[0m in \u001b[0;36m<cell line: 2>\u001b[0;34m()\u001b[0m\n\u001b[1;32m      <a href='vscode-notebook-cell:/Users/hashiro/develop/SAM/DIS/dealImage.ipynb#W2sZmlsZQ%3D%3D?line=0'>1</a>\u001b[0m \u001b[39m# 处理美图原图与遮罩图\u001b[39;00m\n\u001b[0;32m----> <a href='vscode-notebook-cell:/Users/hashiro/develop/SAM/DIS/dealImage.ipynb#W2sZmlsZQ%3D%3D?line=1'>2</a>\u001b[0m process_images(\u001b[39m\"\u001b[39;49m\u001b[39mmeitu\u001b[39;49m\u001b[39m\"\u001b[39;49m, \u001b[39m\"\u001b[39;49m\u001b[39morgin\u001b[39;49m\u001b[39m\"\u001b[39;49m, \u001b[39m\"\u001b[39;49m\u001b[39m/Users/hashiro/Downloads/data/treasures/meitu2/\u001b[39;49m\u001b[39m\"\u001b[39;49m)\n",
      "\u001b[1;32m/Users/hashiro/develop/SAM/DIS/dealImage.ipynb Cell 3\u001b[0m in \u001b[0;36mprocess_images\u001b[0;34m(keyword_a, keyword_b, folder_path)\u001b[0m\n\u001b[1;32m     <a href='vscode-notebook-cell:/Users/hashiro/develop/SAM/DIS/dealImage.ipynb#W2sZmlsZQ%3D%3D?line=49'>50</a>\u001b[0m \u001b[39m# 打开图片文件\u001b[39;00m\n\u001b[1;32m     <a href='vscode-notebook-cell:/Users/hashiro/develop/SAM/DIS/dealImage.ipynb#W2sZmlsZQ%3D%3D?line=50'>51</a>\u001b[0m img \u001b[39m=\u001b[39m Image\u001b[39m.\u001b[39mopen(file_path)\n\u001b[0;32m---> <a href='vscode-notebook-cell:/Users/hashiro/develop/SAM/DIS/dealImage.ipynb#W2sZmlsZQ%3D%3D?line=51'>52</a>\u001b[0m new_img \u001b[39m=\u001b[39m transform_mask(img)\n\u001b[1;32m     <a href='vscode-notebook-cell:/Users/hashiro/develop/SAM/DIS/dealImage.ipynb#W2sZmlsZQ%3D%3D?line=52'>53</a>\u001b[0m new_img\u001b[39m.\u001b[39msave(gt_file)\n",
      "\u001b[1;32m/Users/hashiro/develop/SAM/DIS/dealImage.ipynb Cell 3\u001b[0m in \u001b[0;36mtransform_mask\u001b[0;34m(img)\u001b[0m\n\u001b[1;32m     <a href='vscode-notebook-cell:/Users/hashiro/develop/SAM/DIS/dealImage.ipynb#W2sZmlsZQ%3D%3D?line=18'>19</a>\u001b[0m             new_img\u001b[39m.\u001b[39mputpixel((x, y), \u001b[39m255\u001b[39m)\n\u001b[1;32m     <a href='vscode-notebook-cell:/Users/hashiro/develop/SAM/DIS/dealImage.ipynb#W2sZmlsZQ%3D%3D?line=19'>20</a>\u001b[0m         \u001b[39m# 如果像素透明，将新图片的对应像素设为黑色\u001b[39;00m\n\u001b[1;32m     <a href='vscode-notebook-cell:/Users/hashiro/develop/SAM/DIS/dealImage.ipynb#W2sZmlsZQ%3D%3D?line=20'>21</a>\u001b[0m         \u001b[39melse\u001b[39;00m:\n\u001b[0;32m---> <a href='vscode-notebook-cell:/Users/hashiro/develop/SAM/DIS/dealImage.ipynb#W2sZmlsZQ%3D%3D?line=21'>22</a>\u001b[0m             new_img\u001b[39m.\u001b[39;49mputpixel((x, y), \u001b[39m0\u001b[39;49m)\n\u001b[1;32m     <a href='vscode-notebook-cell:/Users/hashiro/develop/SAM/DIS/dealImage.ipynb#W2sZmlsZQ%3D%3D?line=22'>23</a>\u001b[0m \u001b[39m# 返回新图片\u001b[39;00m\n\u001b[1;32m     <a href='vscode-notebook-cell:/Users/hashiro/develop/SAM/DIS/dealImage.ipynb#W2sZmlsZQ%3D%3D?line=23'>24</a>\u001b[0m \u001b[39mreturn\u001b[39;00m new_img\n",
      "File \u001b[0;32m~/opt/miniconda3/lib/python3.9/site-packages/PIL/Image.py:1969\u001b[0m, in \u001b[0;36mImage.putpixel\u001b[0;34m(self, xy, value)\u001b[0m\n\u001b[1;32m   1967\u001b[0m \u001b[39mif\u001b[39;00m \u001b[39mself\u001b[39m\u001b[39m.\u001b[39mreadonly:\n\u001b[1;32m   1968\u001b[0m     \u001b[39mself\u001b[39m\u001b[39m.\u001b[39m_copy()\n\u001b[0;32m-> 1969\u001b[0m \u001b[39mself\u001b[39;49m\u001b[39m.\u001b[39;49mload()\n\u001b[1;32m   1971\u001b[0m \u001b[39mif\u001b[39;00m \u001b[39mself\u001b[39m\u001b[39m.\u001b[39mpyaccess:\n\u001b[1;32m   1972\u001b[0m     \u001b[39mreturn\u001b[39;00m \u001b[39mself\u001b[39m\u001b[39m.\u001b[39mpyaccess\u001b[39m.\u001b[39mputpixel(xy, value)\n",
      "File \u001b[0;32m~/opt/miniconda3/lib/python3.9/site-packages/PIL/Image.py:846\u001b[0m, in \u001b[0;36mImage.load\u001b[0;34m(self)\u001b[0m\n\u001b[1;32m    831\u001b[0m \u001b[39mdef\u001b[39;00m \u001b[39mload\u001b[39m(\u001b[39mself\u001b[39m):\n\u001b[1;32m    832\u001b[0m \u001b[39m    \u001b[39m\u001b[39m\"\"\"\u001b[39;00m\n\u001b[1;32m    833\u001b[0m \u001b[39m    Allocates storage for the image and loads the pixel data.  In\u001b[39;00m\n\u001b[1;32m    834\u001b[0m \u001b[39m    normal cases, you don't need to call this method, since the\u001b[39;00m\n\u001b[0;32m   (...)\u001b[0m\n\u001b[1;32m    844\u001b[0m \u001b[39m    :rtype: :ref:`PixelAccess` or :py:class:`PIL.PyAccess`\u001b[39;00m\n\u001b[1;32m    845\u001b[0m \u001b[39m    \"\"\"\u001b[39;00m\n\u001b[0;32m--> 846\u001b[0m     \u001b[39mif\u001b[39;00m \u001b[39mself\u001b[39m\u001b[39m.\u001b[39mim \u001b[39mis\u001b[39;00m \u001b[39mnot\u001b[39;00m \u001b[39mNone\u001b[39;00m \u001b[39mand\u001b[39;00m \u001b[39mself\u001b[39;49m\u001b[39m.\u001b[39;49mpalette \u001b[39mand\u001b[39;00m \u001b[39mself\u001b[39m\u001b[39m.\u001b[39mpalette\u001b[39m.\u001b[39mdirty:\n\u001b[1;32m    847\u001b[0m         \u001b[39m# realize palette\u001b[39;00m\n\u001b[1;32m    848\u001b[0m         mode, arr \u001b[39m=\u001b[39m \u001b[39mself\u001b[39m\u001b[39m.\u001b[39mpalette\u001b[39m.\u001b[39mgetdata()\n\u001b[1;32m    849\u001b[0m         \u001b[39mself\u001b[39m\u001b[39m.\u001b[39mim\u001b[39m.\u001b[39mputpalette(mode, arr)\n",
      "\u001b[0;31mKeyboardInterrupt\u001b[0m: "
     ]
    }
   ],
   "source": [
    "# 处理美图原图与遮罩图\n",
    "process_images(\"meitu\", \"orgin\", \"/Users/hashiro/Downloads/data/treasures/meitu2/\")\n",
    "# process_images(\"meitu\", \"orgin\", \"/Users/hashiro/Downloads/data/treasures/test/\")"
   ]
  },
  {
   "attachments": {},
   "cell_type": "markdown",
   "metadata": {},
   "source": [
    "# 处理深度图"
   ]
  },
  {
   "cell_type": "code",
   "execution_count": 2,
   "metadata": {},
   "outputs": [
    {
     "name": "stdout",
     "output_type": "stream",
     "text": [
      "2.0.0\n"
     ]
    },
    {
     "name": "stderr",
     "output_type": "stream",
     "text": [
      "Some weights of DPTForDepthEstimation were not initialized from the model checkpoint at Intel/dpt-large and are newly initialized: ['neck.fusion_stage.layers.0.residual_layer1.convolution1.bias', 'neck.fusion_stage.layers.0.residual_layer1.convolution1.weight', 'neck.fusion_stage.layers.0.residual_layer1.convolution2.bias', 'neck.fusion_stage.layers.0.residual_layer1.convolution2.weight']\n",
      "You should probably TRAIN this model on a down-stream task to be able to use it for predictions and inference.\n"
     ]
    }
   ],
   "source": [
    "import os\n",
    "os.environ[\"PYTORCH_ENABLE_MPS_FALLBACK\"] = \"1\"\n",
    "\n",
    "from transformers import DPTFeatureExtractor, DPTForDepthEstimation\n",
    "import torch\n",
    "import numpy as np\n",
    "from PIL import Image\n",
    "\n",
    "\n",
    "print(torch.__version__)\n",
    "\n",
    "device = \"mps\"\n",
    "\n",
    "feature_extractor = DPTFeatureExtractor.from_pretrained(\"Intel/dpt-large\",cache_dir='./model')\n",
    "model = DPTForDepthEstimation.from_pretrained(\"Intel/dpt-large\", cache_dir='./model')\n",
    "\n",
    "def process_image_depth(image):\n",
    "    image = image.convert('RGB')\n",
    "    # prepare image for the model\n",
    "    encoding = feature_extractor(image, return_tensors=\"pt\").to(device)\n",
    "    model.to(device)\n",
    "    \n",
    "    # forward pass\n",
    "    with torch.no_grad():\n",
    "       outputs = model(**encoding)\n",
    "       predicted_depth = outputs.predicted_depth\n",
    "    \n",
    "    # interpolate to original size\n",
    "    prediction = torch.nn.functional.interpolate(\n",
    "                        predicted_depth.unsqueeze(1),\n",
    "                        size=image.size[::-1],\n",
    "                        mode=\"bicubic\",\n",
    "                 ).squeeze()\n",
    "    output = prediction.cpu().numpy()\n",
    "    formatted = (output * 255 / np.max(output)).astype('uint8')\n",
    "    return formatted\n",
    "\n",
    "# 将某个目录下的所有图片转换为深度图\n",
    "def process_images_depth(input_dir, output_dir):\n",
    "    # 如果文件夹不存在则创建\n",
    "    os.makedirs(output_dir, exist_ok=True)\n",
    "    for filename in tqdm.tqdm(os.listdir(input_dir)):\n",
    "        image = Image.open(os.path.join(input_dir, filename))\n",
    "        depth = process_image_depth(image)\n",
    "        Image.fromarray(depth).save(os.path.join(output_dir, filename))\n",
    "        \n"
   ]
  },
  {
   "cell_type": "code",
   "execution_count": 4,
   "metadata": {},
   "outputs": [
    {
     "name": "stderr",
     "output_type": "stream",
     "text": [
      "100%|██████████| 15/15 [00:10<00:00,  1.48it/s]\n"
     ]
    }
   ],
   "source": [
    "import tqdm\n",
    "# 处理图片深度图\n",
    "process_images_depth('/Users/hashiro/Downloads/data/treasures/test/orgin', '/Users/hashiro/Downloads/data/treasures/test/depth')"
   ]
  }
 ],
 "metadata": {
  "kernelspec": {
   "display_name": "base",
   "language": "python",
   "name": "python3"
  },
  "language_info": {
   "codemirror_mode": {
    "name": "ipython",
    "version": 3
   },
   "file_extension": ".py",
   "mimetype": "text/x-python",
   "name": "python",
   "nbconvert_exporter": "python",
   "pygments_lexer": "ipython3",
   "version": "3.9.12"
  },
  "orig_nbformat": 4
 },
 "nbformat": 4,
 "nbformat_minor": 2
}
